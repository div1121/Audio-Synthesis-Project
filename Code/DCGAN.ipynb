{
  "nbformat": 4,
  "nbformat_minor": 0,
  "metadata": {
    "kernelspec": {
      "display_name": "Python 3",
      "language": "python",
      "name": "python3"
    },
    "language_info": {
      "codemirror_mode": {
        "name": "ipython",
        "version": 3
      },
      "file_extension": ".py",
      "mimetype": "text/x-python",
      "name": "python",
      "nbconvert_exporter": "python",
      "pygments_lexer": "ipython3",
      "version": "3.7.4"
    },
    "colab": {
      "name": "DCGAN.ipynb",
      "provenance": [],
      "collapsed_sections": []
    },
    "accelerator": "GPU"
  },
  "cells": [
    {
      "cell_type": "code",
      "metadata": {
        "id": "Yn4hQJg_A7Gy"
      },
      "source": [
        "!pip install tensorflow_io\n",
        "!pip install pyyaml h5py  # Required to save models in HDF5 format"
      ],
      "execution_count": null,
      "outputs": []
    },
    {
      "cell_type": "code",
      "metadata": {
        "id": "vqCOVrusC3do"
      },
      "source": [
        "import tensorflow as tf\n",
        "import random\n",
        "import numpy as np\n",
        "import matplotlib.pyplot as plt\n",
        "import os\n",
        "import pandas\n",
        "import tensorflow_datasets as tfds\n",
        "import time\n",
        "import librosa.display as lidp\n",
        "import tensorflow_io as tfio\n",
        "from tensorflow import keras\n",
        "from tensorflow.keras import layers\n",
        "from IPython import display\n"
      ],
      "execution_count": null,
      "outputs": []
    },
    {
      "cell_type": "code",
      "metadata": {
        "id": "5aLgKpjuC6gJ"
      },
      "source": [
        "data, info = tfds.load('nsynth', try_gcs=True, split='train', with_info=True)\n",
        "assert isinstance(data, tf.data.Dataset)\n",
        "#get data"
      ],
      "execution_count": null,
      "outputs": []
    },
    {
      "cell_type": "code",
      "metadata": {
        "id": "J-5jduHLET3Q"
      },
      "source": [
        "n = 16\n",
        "i = 0\n",
        "p = data.take(n)\n",
        "print(p)\n",
        "fig, axes = plt.subplots(n,1,figsize=(15, 30))\n",
        "for example in p:\n",
        "  #print(list(example.keys()))\n",
        "  wave = example[\"audio\"]\n",
        "  wave.numpy()\n",
        "  #spectrogram = tf.signal.stft(wave, frame_length=1024, frame_step=256)\n",
        "  #print(spectrogram)\n",
        "  x = np.linspace(0,64000,64000)\n",
        "  axes[i].plot(x,wave)\n",
        "  spectrogram = tfio.experimental.audio.spectrogram(wave, nfft=512, window=1024, stride=256)\n",
        "  plt.figure()\n",
        "  plt.imshow(tf.math.log(spectrogram).numpy())\n",
        "  #print(bytes.decode(example[\"id\"].numpy()))\n",
        "  #for a,b in example[\"instrument\"].items():\n",
        "    #print(a,b.numpy(),info.features[\"instrument\"][a].names[b.numpy()])\n",
        "  #print(example[\"pitch\"].numpy(),info.features[\"pitch\"].names[example[\"pitch\"].numpy()])\n",
        "  #for a,b in example[\"qualities\"].items():\n",
        "    #print(a,b.numpy())\n",
        "  #print(example[\"velocity\"].numpy(),info.features[\"velocity\"].names[example[\"velocity\"].numpy()])\n",
        "  display.display(display.Audio(wave, rate=16000))\n",
        "  i+=1\n",
        "\n",
        "#print(info.features)\n",
        "#check input data"
      ],
      "execution_count": null,
      "outputs": []
    },
    {
      "cell_type": "code",
      "metadata": {
        "id": "YgMMj9TR8N0t"
      },
      "source": [
        "from google.colab import drive\n",
        "drive.mount('/content/gdrive')\n",
        "#login your dirve so that you can save model data for later training"
      ],
      "execution_count": null,
      "outputs": []
    },
    {
      "cell_type": "code",
      "metadata": {
        "id": "5AF2_hrkC3eh"
      },
      "source": [
        "tf.random.set_seed(22)\n",
        "np.random.seed(22)\n",
        "\n",
        "z_dim = 100\n",
        "epochs = 3000000\n",
        "batch_size = 256\n",
        "learning_rate = 0.0002\n",
        "print(len(data))\n",
        "db = data.shuffle(batch_size*20).batch(batch_size).repeat()\n",
        "#print(len(db))\n",
        "db_iter = iter(db)\n",
        "#d = db.take(1)\n",
        "#for examples in d:\n",
        "  #t = examples[\"audio\"]\n",
        "  #print(type(t),len(t))\n",
        "  #print(examples[\"audio\"].numpy())\n",
        "#db = data\n",
        "#db = db.take(batch_size)\n",
        "#d = data.shuffle(batch_size).batch(batch_size).repeat()\n",
        "#db_iter = iter(d)\n",
        "#need of process data"
      ],
      "execution_count": null,
      "outputs": []
    },
    {
      "cell_type": "code",
      "metadata": {
        "id": "XyXG6oWADE6_"
      },
      "source": [
        "def make_generator_model(d,c):\n",
        "  \n",
        "  model = tf.keras.Sequential()\n",
        "  model.add(layers.Dense(256*d, input_shape=(100,)))\n",
        "  model.add(layers.ReLU())\n",
        "\n",
        "  model.add(layers.Reshape((16,16*d)))\n",
        "  assert model.output_shape == (None, 16, 16*d)\n",
        "\n",
        "  model.add(layers.Conv1DTranspose(8*d, 25, strides=4, padding='same'))\n",
        "  assert model.output_shape == (None, 64, 8*d)\n",
        "  model.add(layers.ReLU())\n",
        "\n",
        "  model.add(layers.Conv1DTranspose(4*d, 25, strides=4, padding='same'))\n",
        "  assert model.output_shape == (None, 256, 4*d)\n",
        "  model.add(layers.ReLU())\n",
        "\n",
        "  model.add(layers.Conv1DTranspose(2*d, 25, strides=4, padding='same'))\n",
        "  assert model.output_shape == (None, 1024, 2*d)\n",
        "  model.add(layers.ReLU())\n",
        "\n",
        "  model.add(layers.Conv1DTranspose(d, 25, strides=4, padding='same'))\n",
        "  assert model.output_shape == (None, 4096, d)\n",
        "  model.add(layers.ReLU())\n",
        "\n",
        "  model.add(layers.Conv1DTranspose(c, 25, strides=4, padding='same', activation='tanh'))\n",
        "  print(model.output_shape)\n",
        "  assert model.output_shape == (None, 16384, c)\n",
        "\n",
        "  return model"
      ],
      "execution_count": null,
      "outputs": []
    },
    {
      "cell_type": "code",
      "metadata": {
        "id": "vepbWdyqC3es"
      },
      "source": [
        "generator = make_generator_model(64,1)\n",
        "\n",
        "noise = tf.random.uniform(shape=[1, z_dim], minval=-1, maxval=1)\n",
        "#print(noise)\n",
        "generated_image = generator(noise, training=False)\n",
        "#print(generated_image.shape[0])\n",
        "for i in range(generated_image.shape[0]):\n",
        "  x = np.linspace(0,16384,16384)\n",
        "  print(generated_image[i,:,0])\n",
        "  k = np.reshape(generated_image[i,:,0],(16384))\n",
        "  display.display(display.Audio(k, rate=16000))\n",
        "  plt.plot(x,k)\n",
        "generated_image = generator(noise, training=False)\n",
        "print(generated_image.shape[0])"
      ],
      "execution_count": null,
      "outputs": []
    },
    {
      "cell_type": "code",
      "metadata": {
        "id": "YgFyv3TwXIW_"
      },
      "source": [
        "def make_discriminator_model(d,c):\n",
        "  model = tf.keras.Sequential()\n",
        "\n",
        "  model.add(layers.Conv1D(d, 25, strides=4, padding='same', input_shape=[16384,c]))\n",
        "  assert model.output_shape == (None, 4096, d)\n",
        "  model.add(layers.LeakyReLU(alpha=0.2))\n",
        "\n",
        "  model.add(layers.Conv1D(2*d, 25, strides=4, padding='same'))\n",
        "  assert model.output_shape == (None, 1024, 2*d)\n",
        "  model.add(layers.LeakyReLU(alpha=0.2))\n",
        "\n",
        "  model.add(layers.Conv1D(4*d, 25, strides=4, padding='same'))\n",
        "  assert model.output_shape == (None, 256, 4*d)\n",
        "  model.add(layers.LeakyReLU(alpha=0.2))\n",
        "\n",
        "  model.add(layers.Conv1D(8*d, 25, strides=4, padding='same'))\n",
        "  assert model.output_shape == (None, 64, 8*d)\n",
        "  model.add(layers.LeakyReLU(alpha=0.2))\n",
        "\n",
        "  model.add(layers.Conv1D(16*d, 25, strides=4, padding='same'))\n",
        "  assert model.output_shape == (None, 16, 16*d)\n",
        "  model.add(layers.LeakyReLU(alpha=0.2))\n",
        "\n",
        "  model.add(layers.Flatten())\n",
        "  model.add(layers.Dense(1))\n",
        "\n",
        "  return model"
      ],
      "execution_count": null,
      "outputs": []
    },
    {
      "cell_type": "code",
      "metadata": {
        "id": "yj5Z-gQDcSop"
      },
      "source": [
        "discriminator = make_discriminator_model(64,1)\n",
        "#print(generated_image)\n",
        "decision = discriminator(generated_image, training=False)\n",
        "print (decision)"
      ],
      "execution_count": null,
      "outputs": []
    },
    {
      "cell_type": "code",
      "metadata": {
        "id": "wjub9Cu1q-Cc"
      },
      "source": [
        "cross_entropy = tf.keras.losses.BinaryCrossentropy(from_logits=True)"
      ],
      "execution_count": null,
      "outputs": []
    },
    {
      "cell_type": "code",
      "metadata": {
        "id": "UBz-0PCGdlpW"
      },
      "source": [
        "def discriminator_loss(real_output, fake_output):\n",
        "  real_loss = cross_entropy(tf.ones_like(real_output), real_output)\n",
        "  fake_loss = cross_entropy(tf.zeros_like(fake_output), fake_output)\n",
        "  total_loss = real_loss + fake_loss\n",
        "  return total_loss"
      ],
      "execution_count": null,
      "outputs": []
    },
    {
      "cell_type": "code",
      "metadata": {
        "id": "eHn0WcSAd06D"
      },
      "source": [
        "def generator_loss(fake_output):\n",
        "  return cross_entropy(tf.ones_like(fake_output), fake_output)"
      ],
      "execution_count": null,
      "outputs": []
    },
    {
      "cell_type": "code",
      "metadata": {
        "id": "qqRt_hy2d9Fa"
      },
      "source": [
        "generator_optimizer = tf.keras.optimizers.Adam(learning_rate)\n",
        "discriminator_optimizer = tf.keras.optimizers.Adam(learning_rate)"
      ],
      "execution_count": null,
      "outputs": []
    },
    {
      "cell_type": "code",
      "metadata": {
        "id": "dpxNMyQJeLPn"
      },
      "source": [
        "checkpoint_dir = '/content/gdrive/My Drive/DCGAN'\n",
        "checkpoint_prefix = os.path.join(checkpoint_dir, \"ckpt\")\n",
        "checkpoint = tf.train.Checkpoint(generator_optimizer=generator_optimizer,\n",
        "                                 discriminator_optimizer=discriminator_optimizer,\n",
        "                                 generator=generator,\n",
        "                                 discriminator=discriminator)"
      ],
      "execution_count": null,
      "outputs": []
    },
    {
      "cell_type": "code",
      "metadata": {
        "id": "t8TD0FvWeVNR"
      },
      "source": [
        "seed = tf.random.uniform(shape=[16, z_dim], minval=-1, maxval=1)\n",
        "print(seed)"
      ],
      "execution_count": null,
      "outputs": []
    },
    {
      "cell_type": "code",
      "metadata": {
        "id": "tq_6it4XjQ-p"
      },
      "source": [
        "def generate_and_save_images(model, epoch, test_input):\n",
        "  predictions = model(test_input, training=False)\n",
        "\n",
        "  fig, axes = plt.subplots(16,1,figsize=(15, 30))\n",
        "  for i in range(predictions.shape[0]):\n",
        "    x = np.linspace(0,16384,16384)\n",
        "    #print(predictions[i,:,0])\n",
        "    k = np.reshape(predictions[i,:,0],(16384))\n",
        "    display.display(display.Audio(k, rate=16000))\n",
        "    axes[i].plot(x,k)\n",
        "\n",
        "  plt.savefig('/content/gdrive/My Drive/DCGAN/sound_at_epoch_{:04d}.png'.format(epoch))\n",
        "  plt.show()\n",
        "#check output data"
      ],
      "execution_count": null,
      "outputs": []
    },
    {
      "cell_type": "code",
      "metadata": {
        "id": "p7fLrDSGUC_t"
      },
      "source": [
        "generator.summary()\n",
        "discriminator.summary()\n",
        "#check structure:"
      ],
      "execution_count": null,
      "outputs": []
    },
    {
      "cell_type": "code",
      "metadata": {
        "id": "r9bMSFWEDLvh"
      },
      "source": [
        "print(db)"
      ],
      "execution_count": null,
      "outputs": []
    },
    {
      "cell_type": "code",
      "metadata": {
        "id": "DFxQWghHXy2w"
      },
      "source": [
        "#all above are needed"
      ],
      "execution_count": null,
      "outputs": []
    },
    {
      "cell_type": "code",
      "metadata": {
        "id": "lA6N2D9pKPcv"
      },
      "source": [
        "count = 0\n",
        "A = np.array([],float)\n",
        "B = np.array([],float)"
      ],
      "execution_count": null,
      "outputs": []
    },
    {
      "cell_type": "code",
      "metadata": {
        "id": "HeE4qAgrbK7j"
      },
      "source": [
        "A = np.loadtxt('/content/gdrive/My Drive/DCGAN/diserror.csv', delimiter=',')\n",
        "B = np.loadtxt('/content/gdrive/My Drive/DCGAN/gerror.csv', delimiter=',')\n",
        "count = len(A)"
      ],
      "execution_count": null,
      "outputs": []
    },
    {
      "cell_type": "code",
      "metadata": {
        "id": "6yCcMkXAKWB8"
      },
      "source": [
        "print(count)"
      ],
      "execution_count": null,
      "outputs": []
    },
    {
      "cell_type": "code",
      "metadata": {
        "id": "RUpU1HxgcOLH"
      },
      "source": [
        "checkpoint.restore(tf.train.latest_checkpoint(checkpoint_dir))\n"
      ],
      "execution_count": null,
      "outputs": []
    },
    {
      "cell_type": "code",
      "metadata": {
        "id": "1THpxBlUwL_h"
      },
      "source": [
        "generator.save(\"/content/gdrive/My Drive/DCGAN/amodel\")"
      ],
      "execution_count": null,
      "outputs": []
    },
    {
      "cell_type": "code",
      "metadata": {
        "id": "l7ZMHVCrwWcw"
      },
      "source": [
        "model = keras.models.load_model(\"/content/gdrive/My Drive/DCGAN/amodel\")"
      ],
      "execution_count": null,
      "outputs": []
    },
    {
      "cell_type": "code",
      "metadata": {
        "id": "3FLOHpkMwq76"
      },
      "source": [
        "generate_and_save_images(model,-12,seed)"
      ],
      "execution_count": null,
      "outputs": []
    },
    {
      "cell_type": "code",
      "metadata": {
        "id": "aE22KZ5YKqCz"
      },
      "source": [
        "for i in range(1):\n",
        "  batch_x = next(db_iter)\n",
        "  #print(batch_x)\n",
        "  sound = batch_x[\"audio\"]\n",
        "  sound = sound[:,:16384]\n",
        "  print(sound.shape)"
      ],
      "execution_count": null,
      "outputs": []
    },
    {
      "cell_type": "code",
      "metadata": {
        "id": "uWmaT34D2Upm"
      },
      "source": [
        "def saveitems(count,A,B):\n",
        "  X = np.linspace(0,count,count)\n",
        "  plt.grid(True)\n",
        "  plt.title(\"Error tracking\") # title\n",
        "  plt.ylabel(\"Error\") # y label\n",
        "  plt.xlabel(\"Number of epochs\") # x label\n",
        "  plt.plot(X,A,color=\"blue\",label=\"Discriminator loss\")\n",
        "  plt.plot(X,B,color=\"green\",label=\"Generator loss\")\n",
        "  plt.legend()\n",
        "  plt.savefig('/content/gdrive/My Drive/DCGAN/training.png')\n",
        "  plt.show()\n",
        "  np.savetxt('/content/gdrive/My Drive/DCGAN/diserror.csv', A, delimiter=',')\n",
        "  np.savetxt('/content/gdrive/My Drive/DCGAN/gerror.csv', B, delimiter=',')"
      ],
      "execution_count": null,
      "outputs": []
    },
    {
      "cell_type": "code",
      "metadata": {
        "id": "f--GOHoEcZ8_"
      },
      "source": [
        "epochs = 3001\n",
        "for epoch in range(epochs):\n",
        "  start = time.time()\n",
        "  batch_x = next(db_iter)\n",
        "\n",
        "  sound = batch_x[\"audio\"]\n",
        "  sound = sound[:,:16384]\n",
        "  sound = tf.reshape(sound,[sound.shape[0],16384,1])\n",
        "  #print(sound)\n",
        "  batch_z = tf.random.uniform(shape=[batch_size, z_dim], minval=-1., maxval=1.)\n",
        "\n",
        "  with tf.GradientTape() as gen_tape, tf.GradientTape() as disc_tape:\n",
        "    generated_sound = generator(batch_z, training=True)\n",
        "\n",
        "    real_output = discriminator(sound, training=True)\n",
        "    fake_output = discriminator(generated_sound, training=True)\n",
        "\n",
        "    gen_loss = generator_loss(fake_output)\n",
        "    disc_loss = discriminator_loss(real_output, fake_output)\n",
        "\n",
        "  gradients_of_generator = gen_tape.gradient(gen_loss, generator.trainable_variables)\n",
        "  gradients_of_discriminator = disc_tape.gradient(disc_loss, discriminator.trainable_variables)\n",
        "\n",
        "  generator_optimizer.apply_gradients(zip(gradients_of_generator, generator.trainable_variables))\n",
        "  discriminator_optimizer.apply_gradients(zip(gradients_of_discriminator, discriminator.trainable_variables))\n",
        "\n",
        "  print(epoch, 'd loss:', float(disc_loss), 'g loss:', float(gen_loss))\n",
        "  print ('Time for epoch {} is {} sec'.format(epoch + 1, time.time()-start))\n",
        "  #generate_and_save_images(realgenerator,epoch,seed)\n",
        "  A = np.append(A,float(disc_loss))\n",
        "  B = np.append(B,float(gen_loss))\n",
        "  count+=1\n",
        "  if epoch%1000 == 0:\n",
        "    checkpoint.save(file_prefix = checkpoint_prefix)\n",
        "    saveitems(count,A,B)\n",
        "  if epoch%500 == 0:\n",
        "    generate_and_save_images(generator,count,seed)\n",
        "#seed = tf.random.uniform(shape=[16, z_dim], minval=-1, maxval=1)\n",
        "X = np.linspace(0,count,count)\n",
        "plt.grid(True)\n",
        "plt.title(\"Error tracking\") # title\n",
        "plt.ylabel(\"Error\") # y label\n",
        "plt.xlabel(\"Number of epochs\") # x label\n",
        "plt.plot(X,A,color=\"blue\",label=\"Discriminator loss\")\n",
        "plt.plot(X,B,color=\"green\",label=\"Generator loss\")\n",
        "plt.legend()\n",
        "plt.savefig('/content/gdrive/My Drive/DCGAN/training.png')\n",
        "plt.show()\n",
        "np.savetxt('/content/gdrive/My Drive/DCGAN/diserror.csv', A, delimiter=',')\n",
        "np.savetxt('/content/gdrive/My Drive/DCGAN/gerror.csv', B, delimiter=',')\n",
        "#current training process(for first time)"
      ],
      "execution_count": null,
      "outputs": []
    },
    {
      "cell_type": "code",
      "metadata": {
        "id": "-A62w8hLnt45"
      },
      "source": [
        "#generate_and_save_images(generator,epoch,seed)\n",
        "X = np.linspace(0,count,count)\n",
        "plt.grid(True)\n",
        "plt.title(\"Error tracking\") # title\n",
        "plt.ylabel(\"Error\") # y label\n",
        "plt.xlabel(\"Number of epochs\") # x label\n",
        "plt.plot(X,A,color=\"blue\",label=\"Discriminator loss\")\n",
        "plt.plot(X,B,color=\"green\",label=\"Generator loss\")\n",
        "plt.legend()\n",
        "plt.savefig('/content/gdrive/My Drive/DCGAN/training.png')\n",
        "plt.show()\n",
        "#check output"
      ],
      "execution_count": null,
      "outputs": []
    },
    {
      "cell_type": "code",
      "metadata": {
        "id": "hgxPj4zDUHnQ"
      },
      "source": [
        "print(A,type(A))\n",
        "print(B,type(B))\n",
        "print(count)\n",
        "print(len(A))\n",
        "#print A: Discriminator error, B: Generator error"
      ],
      "execution_count": null,
      "outputs": []
    },
    {
      "cell_type": "code",
      "metadata": {
        "id": "U2hwRIdLVblW"
      },
      "source": [
        "np.savetxt('/content/gdrive/My Drive/DCGAN/diserror.csv', A, delimiter=',')\n",
        "np.savetxt('/content/gdrive/My Drive/DCGAN/gerror.csv', B, delimiter=',')\n",
        "#save A,B to drive"
      ],
      "execution_count": null,
      "outputs": []
    },
    {
      "cell_type": "code",
      "metadata": {
        "id": "LcEp9BQpCcS1"
      },
      "source": [
        "seed = tf.random.uniform(shape=[16, z_dim], minval=-1, maxval=1)\n",
        "generate_and_save_images(generator,-1,seed)"
      ],
      "execution_count": null,
      "outputs": []
    },
    {
      "cell_type": "code",
      "metadata": {
        "id": "R3LOC8MvcVkj"
      },
      "source": [
        "generate_and_save_images(generator,-1,seed)\n",
        "#check for ouput"
      ],
      "execution_count": null,
      "outputs": []
    }
  ]
}